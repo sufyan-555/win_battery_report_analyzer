{
 "cells": [
  {
   "cell_type": "code",
   "execution_count": 2,
   "metadata": {},
   "outputs": [],
   "source": [
    "import pandas as pd\n",
    "import numpy as np\n",
    "from pprint import pprint\n",
    "import matplotlib.pyplot as plt\n",
    "import matplotlib.dates as mdates\n",
    "import seaborn as sns"
   ]
  },
  {
   "cell_type": "code",
   "execution_count": 3,
   "metadata": {},
   "outputs": [],
   "source": [
    "report_file = 'battery-report.html'"
   ]
  },
  {
   "cell_type": "code",
   "execution_count": 4,
   "metadata": {},
   "outputs": [],
   "source": [
    "tables = pd.read_html(report_file)"
   ]
  },
  {
   "cell_type": "markdown",
   "metadata": {},
   "source": [
    "### Supporting Functions"
   ]
  },
  {
   "cell_type": "code",
   "execution_count": 255,
   "metadata": {},
   "outputs": [],
   "source": [
    "def get_date(x):\n",
    "    if len(x) == 19:\n",
    "        return x.split(' ')[0]\n",
    "    return np.nan\n",
    "def get_time(x):\n",
    "    if len(x) == 19:\n",
    "        return x.split(' ')[1]\n",
    "    return x\n",
    "\n",
    "def get_minutes(x):\n",
    "    return int(pd.Timedelta(x).total_seconds()/60)\n",
    "\n",
    "def handle_time(df,col,drop=True):\n",
    "    df['Date'] = df[col].apply(get_date)\n",
    "    df['Date'] = df['Date'].ffill()\n",
    "    df['Time'] = df[col].apply(get_time)\n",
    "    df[col] = pd.to_datetime(df['Date']+' '+df['Time'], format='%Y-%m-%d %H:%M:%S')\n",
    "    if drop:\n",
    "        df.drop(['Date','Time'],axis=1,inplace=True)\n",
    "        \n",
    "def handle_duration(df,col):\n",
    "    df[col] = df[col].apply(get_minutes)\n",
    "\n",
    "def remove_percent(df,col):\n",
    "    df[col] = df[col].str.replace(' %','').astype(float)\n",
    "\n",
    "def remove_mwh(df, col):\n",
    "    df[col] = df[col].str.replace(',', '').str.replace(' mWh', '').astype(float)"
   ]
  },
  {
   "cell_type": "markdown",
   "metadata": {},
   "source": [
    "### Basic Info"
   ]
  },
  {
   "cell_type": "code",
   "execution_count": 23,
   "metadata": {},
   "outputs": [
    {
     "name": "stdout",
     "output_type": "stream",
     "text": [
      "                     0                                        1\n",
      "0        COMPUTER NAME                                   ALPHA1\n",
      "1  SYSTEM PRODUCT NAME                     Acer Aspire A515-57G\n",
      "2                 BIOS                         V1.08 04/25/2022\n",
      "3             OS BUILD  22621.1.amd64fre.ni_release.220506-1250\n",
      "4        PLATFORM ROLE                                   Mobile\n",
      "5    CONNECTED STANDBY                                Supported\n",
      "6          REPORT TIME                      2024-11-10 19:44:43\n"
     ]
    }
   ],
   "source": [
    "basic_info = tables[0]\n",
    "pprint(basic_info)"
   ]
  },
  {
   "cell_type": "code",
   "execution_count": null,
   "metadata": {},
   "outputs": [
    {
     "data": {
      "text/plain": [
       "'{\"0\":{\"0\":\"COMPUTER NAME\",\"1\":\"SYSTEM PRODUCT NAME\",\"2\":\"BIOS\",\"3\":\"OS BUILD\",\"4\":\"PLATFORM ROLE\",\"5\":\"CONNECTED STANDBY\",\"6\":\"REPORT TIME\"},\"1\":{\"0\":\"ALPHA1\",\"1\":\"Acer Aspire A515-57G\",\"2\":\"V1.08 04\\\\/25\\\\/2022\",\"3\":\"22621.1.amd64fre.ni_release.220506-1250\",\"4\":\"Mobile\",\"5\":\"Supported\",\"6\":\"2024-11-10 19:44:43\"}}'"
      ]
     },
     "execution_count": 24,
     "metadata": {},
     "output_type": "execute_result"
    }
   ],
   "source": [
    "basic_info.to_json()"
   ]
  },
  {
   "cell_type": "markdown",
   "metadata": {},
   "source": [
    "### Battery Info"
   ]
  },
  {
   "cell_type": "code",
   "execution_count": 21,
   "metadata": {},
   "outputs": [
    {
     "name": "stdout",
     "output_type": "stream",
     "text": [
      "             Unnamed: 0  BATTERY  1\n",
      "0                  NAME     AP20CBL\n",
      "1          MANUFACTURER       COSMX\n",
      "2         SERIAL NUMBER        1979\n",
      "3             CHEMISTRY        Li-I\n",
      "4       DESIGN CAPACITY  53,015 mWh\n",
      "5                   NaN         NaN\n",
      "6  FULL CHARGE CAPACITY  42,146 mWh\n",
      "7           CYCLE COUNT           -\n"
     ]
    }
   ],
   "source": [
    "battery_info = tables[1]\n",
    "pprint(battery_info)"
   ]
  },
  {
   "cell_type": "markdown",
   "metadata": {},
   "source": [
    "### Recent usage table"
   ]
  },
  {
   "cell_type": "code",
   "execution_count": 22,
   "metadata": {},
   "outputs": [
    {
     "data": {
      "text/html": [
       "<div>\n",
       "<style scoped>\n",
       "    .dataframe tbody tr th:only-of-type {\n",
       "        vertical-align: middle;\n",
       "    }\n",
       "\n",
       "    .dataframe tbody tr th {\n",
       "        vertical-align: top;\n",
       "    }\n",
       "\n",
       "    .dataframe thead th {\n",
       "        text-align: right;\n",
       "    }\n",
       "</style>\n",
       "<table border=\"1\" class=\"dataframe\">\n",
       "  <thead>\n",
       "    <tr style=\"text-align: right;\">\n",
       "      <th></th>\n",
       "      <th>START TIME</th>\n",
       "      <th>STATE</th>\n",
       "      <th>SOURCE</th>\n",
       "      <th>CAPACITY REMAINING</th>\n",
       "      <th>CAPACITY REMAINING.1</th>\n",
       "    </tr>\n",
       "  </thead>\n",
       "  <tbody>\n",
       "    <tr>\n",
       "      <th>0</th>\n",
       "      <td>2024-11-07 19:47:47</td>\n",
       "      <td>Active</td>\n",
       "      <td>Battery</td>\n",
       "      <td>100 %</td>\n",
       "      <td>42,146 mWh</td>\n",
       "    </tr>\n",
       "    <tr>\n",
       "      <th>1</th>\n",
       "      <td>21:48:13</td>\n",
       "      <td>Connected standby</td>\n",
       "      <td>Battery</td>\n",
       "      <td>32 %</td>\n",
       "      <td>13,340 mWh</td>\n",
       "    </tr>\n",
       "    <tr>\n",
       "      <th>2</th>\n",
       "      <td>21:48:18</td>\n",
       "      <td>Suspended</td>\n",
       "      <td>NaN</td>\n",
       "      <td>32 %</td>\n",
       "      <td>13,283 mWh</td>\n",
       "    </tr>\n",
       "    <tr>\n",
       "      <th>3</th>\n",
       "      <td>2024-11-08 07:40:25</td>\n",
       "      <td>Connected standby</td>\n",
       "      <td>Battery</td>\n",
       "      <td>30 %</td>\n",
       "      <td>12,763 mWh</td>\n",
       "    </tr>\n",
       "    <tr>\n",
       "      <th>4</th>\n",
       "      <td>07:41:00</td>\n",
       "      <td>Active</td>\n",
       "      <td>Battery</td>\n",
       "      <td>30 %</td>\n",
       "      <td>12,474 mWh</td>\n",
       "    </tr>\n",
       "  </tbody>\n",
       "</table>\n",
       "</div>"
      ],
      "text/plain": [
       "            START TIME              STATE   SOURCE CAPACITY REMAINING  \\\n",
       "0  2024-11-07 19:47:47             Active  Battery              100 %   \n",
       "1             21:48:13  Connected standby  Battery               32 %   \n",
       "2             21:48:18          Suspended      NaN               32 %   \n",
       "3  2024-11-08 07:40:25  Connected standby  Battery               30 %   \n",
       "4             07:41:00             Active  Battery               30 %   \n",
       "\n",
       "  CAPACITY REMAINING.1  \n",
       "0           42,146 mWh  \n",
       "1           13,340 mWh  \n",
       "2           13,283 mWh  \n",
       "3           12,763 mWh  \n",
       "4           12,474 mWh  "
      ]
     },
     "execution_count": 22,
     "metadata": {},
     "output_type": "execute_result"
    }
   ],
   "source": [
    "recent = tables[2].copy()\n",
    "recent.head(5)"
   ]
  },
  {
   "cell_type": "code",
   "execution_count": null,
   "metadata": {},
   "outputs": [],
   "source": [
    "def get_usage_plot(df):\n",
    "    plt.figure(figsize=(10,4), facecolor='white')\n",
    "    plt.style.use('seaborn-v0_8-whitegrid')\n",
    "\n",
    "    # Plot the entire line in blue\n",
    "    plt.plot(df['START TIME'], df['CAPACITY REMAINING'], \n",
    "            color='#1E90FF',  # Dodger blue\n",
    "            linewidth=2, \n",
    "            alpha=0.7)\n",
    "\n",
    "    # Set plot title and axis labels\n",
    "    start_day = df['START TIME'].min().date()\n",
    "    end_day = df['START TIME'].max().date()\n",
    "    plt.title(f'Battery Consumption between {start_day} - {end_day}', \n",
    "            fontsize=14, fontweight='bold', color='#333333')\n",
    "    plt.xlabel('Start Time', fontsize=10, color='#666666')\n",
    "    plt.ylabel('Capacity Remaining (%)', fontsize=10, color='#666666')\n",
    "\n",
    "    # Format x-axis\n",
    "    plt.gca().xaxis.set_major_formatter(mdates.DateFormatter('%H:%M\\n %d/%m'))\n",
    "    plt.xticks(rotation=0, ha='right', fontsize=8, color='#666666')\n",
    "    plt.yticks(fontsize=8, color='#666666')\n",
    "\n",
    "    # Set x-axis limits and ticks\n",
    "    plt.xlim(df['START TIME'].min(), df['START TIME'].max())\n",
    "    plt.gca().xaxis.set_major_locator(mdates.HourLocator(interval=6))\n",
    "\n",
    "    # Add grid\n",
    "    plt.grid(True, linestyle='--', linewidth=0.5, color='#E0E0E0')\n",
    "\n",
    "    plt.tight_layout()"
   ]
  },
  {
   "cell_type": "code",
   "execution_count": 9,
   "metadata": {},
   "outputs": [
    {
     "data": {
      "text/html": [
       "<div>\n",
       "<style scoped>\n",
       "    .dataframe tbody tr th:only-of-type {\n",
       "        vertical-align: middle;\n",
       "    }\n",
       "\n",
       "    .dataframe tbody tr th {\n",
       "        vertical-align: top;\n",
       "    }\n",
       "\n",
       "    .dataframe thead th {\n",
       "        text-align: right;\n",
       "    }\n",
       "</style>\n",
       "<table border=\"1\" class=\"dataframe\">\n",
       "  <thead>\n",
       "    <tr style=\"text-align: right;\">\n",
       "      <th></th>\n",
       "      <th>START TIME</th>\n",
       "      <th>STATE</th>\n",
       "      <th>SOURCE</th>\n",
       "      <th>CAPACITY REMAINING</th>\n",
       "      <th>CAPACITY REMAINING.1</th>\n",
       "      <th>Date</th>\n",
       "      <th>Time</th>\n",
       "    </tr>\n",
       "  </thead>\n",
       "  <tbody>\n",
       "    <tr>\n",
       "      <th>0</th>\n",
       "      <td>2024-11-07 19:47:47</td>\n",
       "      <td>Active</td>\n",
       "      <td>Battery</td>\n",
       "      <td>100.0</td>\n",
       "      <td>42,146 mWh</td>\n",
       "      <td>2024-11-07</td>\n",
       "      <td>19:47:47</td>\n",
       "    </tr>\n",
       "    <tr>\n",
       "      <th>1</th>\n",
       "      <td>2024-11-07 21:48:13</td>\n",
       "      <td>Connected standby</td>\n",
       "      <td>Battery</td>\n",
       "      <td>32.0</td>\n",
       "      <td>13,340 mWh</td>\n",
       "      <td>2024-11-07</td>\n",
       "      <td>21:48:13</td>\n",
       "    </tr>\n",
       "    <tr>\n",
       "      <th>2</th>\n",
       "      <td>2024-11-07 21:48:18</td>\n",
       "      <td>Suspended</td>\n",
       "      <td>NaN</td>\n",
       "      <td>32.0</td>\n",
       "      <td>13,283 mWh</td>\n",
       "      <td>2024-11-07</td>\n",
       "      <td>21:48:18</td>\n",
       "    </tr>\n",
       "    <tr>\n",
       "      <th>3</th>\n",
       "      <td>2024-11-08 07:40:25</td>\n",
       "      <td>Connected standby</td>\n",
       "      <td>Battery</td>\n",
       "      <td>30.0</td>\n",
       "      <td>12,763 mWh</td>\n",
       "      <td>2024-11-08</td>\n",
       "      <td>07:40:25</td>\n",
       "    </tr>\n",
       "    <tr>\n",
       "      <th>4</th>\n",
       "      <td>2024-11-08 07:41:00</td>\n",
       "      <td>Active</td>\n",
       "      <td>Battery</td>\n",
       "      <td>30.0</td>\n",
       "      <td>12,474 mWh</td>\n",
       "      <td>2024-11-08</td>\n",
       "      <td>07:41:00</td>\n",
       "    </tr>\n",
       "  </tbody>\n",
       "</table>\n",
       "</div>"
      ],
      "text/plain": [
       "           START TIME              STATE   SOURCE  CAPACITY REMAINING  \\\n",
       "0 2024-11-07 19:47:47             Active  Battery               100.0   \n",
       "1 2024-11-07 21:48:13  Connected standby  Battery                32.0   \n",
       "2 2024-11-07 21:48:18          Suspended      NaN                32.0   \n",
       "3 2024-11-08 07:40:25  Connected standby  Battery                30.0   \n",
       "4 2024-11-08 07:41:00             Active  Battery                30.0   \n",
       "\n",
       "  CAPACITY REMAINING.1        Date      Time  \n",
       "0           42,146 mWh  2024-11-07  19:47:47  \n",
       "1           13,340 mWh  2024-11-07  21:48:13  \n",
       "2           13,283 mWh  2024-11-07  21:48:18  \n",
       "3           12,763 mWh  2024-11-08  07:40:25  \n",
       "4           12,474 mWh  2024-11-08  07:41:00  "
      ]
     },
     "execution_count": 9,
     "metadata": {},
     "output_type": "execute_result"
    }
   ],
   "source": [
    "handle_time(recent,'START TIME',drop=False)\n",
    "remove_percent(recent,'CAPACITY REMAINING')\n",
    "recent.head(5)"
   ]
  },
  {
   "cell_type": "code",
   "execution_count": 10,
   "metadata": {},
   "outputs": [
    {
     "data": {
      "text/plain": [
       "<module 'matplotlib.pyplot' from 'c:\\\\Users\\\\Sufya\\\\AppData\\\\Local\\\\pypoetry\\\\Cache\\\\virtualenvs\\\\battery-report-analysis-6fU-tPu0-py3.11\\\\Lib\\\\site-packages\\\\matplotlib\\\\pyplot.py'>"
      ]
     },
     "execution_count": 10,
     "metadata": {},
     "output_type": "execute_result"
    },
    {
     "data": {
      "image/png": "[encoded data removed]",
      "text/plain": [
       "<Figure size 1000x400 with 1 Axes>"
      ]
     },
     "metadata": {},
     "output_type": "display_data"
    }
   ],
   "source": [
    "get_usage_plot(recent)"
   ]
  },
  {
   "cell_type": "markdown",
   "metadata": {},
   "source": [
    "### Battry Useage Table"
   ]
  },
  {
   "cell_type": "code",
   "execution_count": 235,
   "metadata": {},
   "outputs": [
    {
     "data": {
      "text/html": [
       "<div>\n",
       "<style scoped>\n",
       "    .dataframe tbody tr th:only-of-type {\n",
       "        vertical-align: middle;\n",
       "    }\n",
       "\n",
       "    .dataframe tbody tr th {\n",
       "        vertical-align: top;\n",
       "    }\n",
       "\n",
       "    .dataframe thead th {\n",
       "        text-align: right;\n",
       "    }\n",
       "</style>\n",
       "<table border=\"1\" class=\"dataframe\">\n",
       "  <thead>\n",
       "    <tr style=\"text-align: right;\">\n",
       "      <th></th>\n",
       "      <th>START TIME</th>\n",
       "      <th>STATE</th>\n",
       "      <th>DURATION</th>\n",
       "      <th>ENERGY DRAINED</th>\n",
       "      <th>ENERGY DRAINED.1</th>\n",
       "    </tr>\n",
       "  </thead>\n",
       "  <tbody>\n",
       "    <tr>\n",
       "      <th>0</th>\n",
       "      <td>2024-11-07 19:47:47</td>\n",
       "      <td>Active</td>\n",
       "      <td>2:00:26</td>\n",
       "      <td>68 %</td>\n",
       "      <td>28,806 mWh</td>\n",
       "    </tr>\n",
       "    <tr>\n",
       "      <th>1</th>\n",
       "      <td>21:48:13</td>\n",
       "      <td>Connected standby</td>\n",
       "      <td>0:00:04</td>\n",
       "      <td>NaN</td>\n",
       "      <td>57 mWh</td>\n",
       "    </tr>\n",
       "    <tr>\n",
       "      <th>3</th>\n",
       "      <td>2024-11-08 07:40:25</td>\n",
       "      <td>Connected standby</td>\n",
       "      <td>0:00:35</td>\n",
       "      <td>1 %</td>\n",
       "      <td>289 mWh</td>\n",
       "    </tr>\n",
       "    <tr>\n",
       "      <th>4</th>\n",
       "      <td>07:41:00</td>\n",
       "      <td>Active</td>\n",
       "      <td>0:28:59</td>\n",
       "      <td>21 %</td>\n",
       "      <td>8,801 mWh</td>\n",
       "    </tr>\n",
       "    <tr>\n",
       "      <th>6</th>\n",
       "      <td>08:15:34</td>\n",
       "      <td>Active</td>\n",
       "      <td>0:00:06</td>\n",
       "      <td>NaN</td>\n",
       "      <td>23 mWh</td>\n",
       "    </tr>\n",
       "  </tbody>\n",
       "</table>\n",
       "</div>"
      ],
      "text/plain": [
       "            START TIME              STATE DURATION ENERGY DRAINED  \\\n",
       "0  2024-11-07 19:47:47             Active  2:00:26           68 %   \n",
       "1             21:48:13  Connected standby  0:00:04            NaN   \n",
       "3  2024-11-08 07:40:25  Connected standby  0:00:35            1 %   \n",
       "4             07:41:00             Active  0:28:59           21 %   \n",
       "6             08:15:34             Active  0:00:06            NaN   \n",
       "\n",
       "  ENERGY DRAINED.1  \n",
       "0       28,806 mWh  \n",
       "1           57 mWh  \n",
       "3          289 mWh  \n",
       "4        8,801 mWh  \n",
       "6           23 mWh  "
      ]
     },
     "execution_count": 235,
     "metadata": {},
     "output_type": "execute_result"
    }
   ],
   "source": [
    "battery = tables[3].copy()\n",
    "battery = battery.dropna(axis=0, how='any')\n",
    "battery['ENERGY DRAINED'] = battery['ENERGY DRAINED'].replace('-',np.nan)\n",
    "battery.head(5)"
   ]
  },
  {
   "cell_type": "code",
   "execution_count": 137,
   "metadata": {},
   "outputs": [
    {
     "data": {
      "text/html": [
       "<div>\n",
       "<style scoped>\n",
       "    .dataframe tbody tr th:only-of-type {\n",
       "        vertical-align: middle;\n",
       "    }\n",
       "\n",
       "    .dataframe tbody tr th {\n",
       "        vertical-align: top;\n",
       "    }\n",
       "\n",
       "    .dataframe thead th {\n",
       "        text-align: right;\n",
       "    }\n",
       "</style>\n",
       "<table border=\"1\" class=\"dataframe\">\n",
       "  <thead>\n",
       "    <tr style=\"text-align: right;\">\n",
       "      <th></th>\n",
       "      <th>START TIME</th>\n",
       "      <th>STATE</th>\n",
       "      <th>DURATION</th>\n",
       "      <th>ENERGY DRAINED</th>\n",
       "      <th>ENERGY DRAINED.1</th>\n",
       "      <th>Date</th>\n",
       "      <th>Time</th>\n",
       "    </tr>\n",
       "  </thead>\n",
       "  <tbody>\n",
       "    <tr>\n",
       "      <th>0</th>\n",
       "      <td>2024-11-07 19:47:47</td>\n",
       "      <td>Active</td>\n",
       "      <td>120</td>\n",
       "      <td>68.0</td>\n",
       "      <td>28,806 mWh</td>\n",
       "      <td>2024-11-07</td>\n",
       "      <td>19:47:47</td>\n",
       "    </tr>\n",
       "    <tr>\n",
       "      <th>1</th>\n",
       "      <td>2024-11-07 21:48:13</td>\n",
       "      <td>Connected standby</td>\n",
       "      <td>0</td>\n",
       "      <td>NaN</td>\n",
       "      <td>57 mWh</td>\n",
       "      <td>2024-11-07</td>\n",
       "      <td>21:48:13</td>\n",
       "    </tr>\n",
       "  </tbody>\n",
       "</table>\n",
       "</div>"
      ],
      "text/plain": [
       "           START TIME              STATE  DURATION  ENERGY DRAINED  \\\n",
       "0 2024-11-07 19:47:47             Active       120            68.0   \n",
       "1 2024-11-07 21:48:13  Connected standby         0             NaN   \n",
       "\n",
       "  ENERGY DRAINED.1        Date      Time  \n",
       "0       28,806 mWh  2024-11-07  19:47:47  \n",
       "1           57 mWh  2024-11-07  21:48:13  "
      ]
     },
     "execution_count": 137,
     "metadata": {},
     "output_type": "execute_result"
    }
   ],
   "source": [
    "handle_time(battery,'START TIME',drop=False)\n",
    "remove_percent(battery,'ENERGY DRAINED')\n",
    "handle_duration(battery,'DURATION')\n",
    "battery.head(2)"
   ]
  },
  {
   "cell_type": "markdown",
   "metadata": {},
   "source": [
    "#### Details about last 36 hrs "
   ]
  },
  {
   "cell_type": "code",
   "execution_count": 218,
   "metadata": {},
   "outputs": [
    {
     "data": {
      "image/png": "[encoded data removed]",
      "text/plain": [
       "<Figure size 640x480 with 1 Axes>"
      ]
     },
     "metadata": {},
     "output_type": "display_data"
    }
   ],
   "source": [
    "plt.title('Active Session Duration in last 36 hours', fontsize=14, fontweight='bold', color='#333333')\n",
    "sns.histplot(battery['DURATION'][battery['DURATION']>0],kde=True,bins=20)\n",
    "plt.xlabel('Duration (in minutes)', fontsize=10, color='#666666')\n",
    "plt.ylabel('Frequency', fontsize=10, color='#666666')\n",
    "plt.xticks(fontsize=8, color='#666666')\n",
    "plt.yticks(fontsize=8, color='#666666')\n",
    "plt.tight_layout()\n",
    "\n",
    "plt.show()"
   ]
  },
  {
   "cell_type": "code",
   "execution_count": 226,
   "metadata": {},
   "outputs": [
    {
     "data": {
      "image/png": "[encoded data removed]",
      "text/plain": [
       "<Figure size 640x480 with 1 Axes>"
      ]
     },
     "metadata": {},
     "output_type": "display_data"
    }
   ],
   "source": [
    "plt.title('Distribution of Active Session Start Times', fontsize=14, fontweight='bold', color='#333333')\n",
    "sns.histplot(battery['START TIME'].dt.hour,kde=True,bins=24)\n",
    "plt.xlabel('Hour', fontsize=10, color='#666666')\n",
    "plt.ylabel('Frequency', fontsize=10, color='#666666')\n",
    "plt.xticks(fontsize=8, color='#666666')\n",
    "plt.yticks(fontsize=8, color='#666666')\n",
    "plt.tight_layout()\n",
    "plt.show()"
   ]
  },
  {
   "cell_type": "code",
   "execution_count": 268,
   "metadata": {},
   "outputs": [],
   "source": [
    "def analyze_battery_data(df):\n",
    "    #) Preprocessing with helper functions\n",
    "    df = df.dropna(axis=0, how='any')\n",
    "    df['ENERGY DRAINED'] = df['ENERGY DRAINED'].replace('-',np.nan)\n",
    "    df['ENERGY DRAINED.1'] = df['ENERGY DRAINED.1'].replace('-',np.nan)\n",
    "    handle_time(df, 'START TIME')  # Parse and split 'START TIME' into datetime\n",
    "    handle_duration(df, 'DURATION')  # Convert 'DURATION' to minutes\n",
    "    remove_percent(df, 'ENERGY DRAINED')  # Clean and convert 'ENERGY DRAINED' column\n",
    "    remove_mwh(df, 'ENERGY DRAINED.1')  # Clean and convert 'ENERGY DRAINED.1' column\n",
    "\n",
    "    # Total energy drained\n",
    "    total_energy_drained = df['ENERGY DRAINED.1'].sum()\n",
    "\n",
    "    # Total time in active and standby states\n",
    "    total_active_time = df.loc[df['STATE'] == 'Active', 'DURATION'].sum()\n",
    "    total_standby_time = df.loc[df['STATE'] == 'Connected standby', 'DURATION'].sum()\n",
    "\n",
    "    # Average energy drained per state\n",
    "    avg_energy_drained_active = df.loc[df['STATE'] == 'Active', 'ENERGY DRAINED.1'].mean()\n",
    "    avg_energy_drained_standby = df.loc[df['STATE'] == 'Connected standby', 'ENERGY DRAINED.1'].mean()\n",
    "    \n",
    "    # Longest and shortest active periods\n",
    "    longest_active_period = df.loc[df['STATE'] == 'Active', 'DURATION'].max()\n",
    "    shortest_active_period = df.loc[df['STATE'] == 'Active', 'DURATION'].min()\n",
    "\n",
    "    # Daily usage patterns\n",
    "    df['Date'] = df['START TIME'].dt.date  # Extract the date\n",
    "    daily_energy_usage = df.groupby('Date')['ENERGY DRAINED.1'].sum()  # Total energy per day\n",
    "    daily_active_time = df[df['STATE'] == 'Active'].groupby('Date')['DURATION'].sum()  # Active time per day\n",
    "\n",
    "    # Results summary\n",
    "    results = {\n",
    "        \"Total Energy Drained (mWh)\": str(total_energy_drained.round(2)),\n",
    "        \"Total Active Time (minutes)\": str(total_active_time.round(2)),\n",
    "        \"Total Standby Time (minutes)\": str(total_standby_time.round(2)),\n",
    "        \"Average Energy Drained in Active State (mWh)\": str(avg_energy_drained_active.round(2)),\n",
    "        \"Average Energy Drained in Standby (mWh)\": str(avg_energy_drained_standby.round(2)),\n",
    "        \"Longest Active Period (minutes)\": str(longest_active_period.round(2)),\n",
    "        \"Shortest Active Period (minutes)\": str(shortest_active_period.round(2)),\n",
    "        \"Daily Energy Usage (mWh)\": daily_energy_usage,\n",
    "        \"Daily Active Time (minutes)\": daily_active_time\n",
    "    }\n",
    "\n",
    "    return results\n"
   ]
  },
  {
   "cell_type": "code",
   "execution_count": null,
   "metadata": {},
   "outputs": [
    {
     "data": {
      "text/plain": [
       "{'Total Energy Drained (mWh)': '277835.0',\n",
       " 'Total Active Time (minutes)': '1151',\n",
       " 'Total Standby Time (minutes)': '149',\n",
       " 'Average Energy Drained in Active State (mWh)': '13734.7',\n",
       " 'Average Energy Drained in Standby (mWh)': '165.32',\n",
       " 'Longest Active Period (minutes)': '145',\n",
       " 'Shortest Active Period (minutes)': '0',\n",
       " 'Daily Energy Usage (mWh)': Date\n",
       " 2024-11-07    28863.0\n",
       " 2024-11-08    88739.0\n",
       " 2024-11-09    84511.0\n",
       " 2024-11-10    75722.0\n",
       " Name: ENERGY DRAINED.1, dtype: float64,\n",
       " 'Daily Active Time (minutes)': Date\n",
       " 2024-11-07    120\n",
       " 2024-11-08    398\n",
       " 2024-11-09    399\n",
       " 2024-11-10    234\n",
       " Name: DURATION, dtype: int64}"
      ]
     },
     "execution_count": 269,
     "metadata": {},
     "output_type": "execute_result"
    },
    {
     "ename": "",
     "evalue": "",
     "output_type": "error",
     "traceback": [
      "\u001b[1;31mThe Kernel crashed while executing code in the current cell or a previous cell. \n",
      "\u001b[1;31mPlease review the code in the cell(s) to identify a possible cause of the failure. \n",
      "\u001b[1;31mClick <a href='https://aka.ms/vscodeJupyterKernelCrash'>here</a> for more info. \n",
      "\u001b[1;31mView Jupyter <a href='command:jupyter.viewOutput'>log</a> for further details."
     ]
    }
   ],
   "source": [
    "analyze_battery_data(tables[3].copy())"
   ]
  },
  {
   "cell_type": "markdown",
   "metadata": {},
   "source": [
    "### Usage history"
   ]
  },
  {
   "cell_type": "code",
   "execution_count": 85,
   "metadata": {},
   "outputs": [
    {
     "data": {
      "text/html": [
       "<div>\n",
       "<style scoped>\n",
       "    .dataframe tbody tr th:only-of-type {\n",
       "        vertical-align: middle;\n",
       "    }\n",
       "\n",
       "    .dataframe tbody tr th {\n",
       "        vertical-align: top;\n",
       "    }\n",
       "\n",
       "    .dataframe thead th {\n",
       "        text-align: right;\n",
       "    }\n",
       "</style>\n",
       "<table border=\"1\" class=\"dataframe\">\n",
       "  <thead>\n",
       "    <tr style=\"text-align: right;\">\n",
       "      <th></th>\n",
       "      <th>PERIOD</th>\n",
       "      <th>BATTERY ACTIVE</th>\n",
       "      <th>BATTERY CONNECTED STANDBY</th>\n",
       "      <th>AC ACTIVE</th>\n",
       "      <th>AC CONNECTED STANDBY</th>\n",
       "    </tr>\n",
       "  </thead>\n",
       "  <tbody>\n",
       "    <tr>\n",
       "      <th>0</th>\n",
       "      <td>2022-09-19  - 2022-10-10</td>\n",
       "      <td>107:04:58</td>\n",
       "      <td>32:00:09</td>\n",
       "      <td>61:40:14</td>\n",
       "      <td>15:38:10</td>\n",
       "    </tr>\n",
       "    <tr>\n",
       "      <th>1</th>\n",
       "      <td>2022-10-10  - 2022-10-17</td>\n",
       "      <td>24:55:26</td>\n",
       "      <td>10:50:32</td>\n",
       "      <td>9:31:51</td>\n",
       "      <td>2:18:24</td>\n",
       "    </tr>\n",
       "    <tr>\n",
       "      <th>2</th>\n",
       "      <td>2022-10-17  - 2022-10-24</td>\n",
       "      <td>25:50:31</td>\n",
       "      <td>1:29:21</td>\n",
       "      <td>8:39:20</td>\n",
       "      <td>0:28:34</td>\n",
       "    </tr>\n",
       "    <tr>\n",
       "      <th>3</th>\n",
       "      <td>2022-10-24  - 2022-11-07</td>\n",
       "      <td>29:17:20</td>\n",
       "      <td>1:02:46</td>\n",
       "      <td>7:45:15</td>\n",
       "      <td>0:01:52</td>\n",
       "    </tr>\n",
       "    <tr>\n",
       "      <th>4</th>\n",
       "      <td>2022-11-07  - 2022-11-14</td>\n",
       "      <td>17:42:43</td>\n",
       "      <td>1:21:22</td>\n",
       "      <td>6:32:36</td>\n",
       "      <td>0:11:34</td>\n",
       "    </tr>\n",
       "  </tbody>\n",
       "</table>\n",
       "</div>"
      ],
      "text/plain": [
       "                     PERIOD BATTERY ACTIVE BATTERY CONNECTED STANDBY  \\\n",
       "0  2022-09-19  - 2022-10-10      107:04:58                  32:00:09   \n",
       "1  2022-10-10  - 2022-10-17       24:55:26                  10:50:32   \n",
       "2  2022-10-17  - 2022-10-24       25:50:31                   1:29:21   \n",
       "3  2022-10-24  - 2022-11-07       29:17:20                   1:02:46   \n",
       "4  2022-11-07  - 2022-11-14       17:42:43                   1:21:22   \n",
       "\n",
       "  AC ACTIVE AC CONNECTED STANDBY  \n",
       "0  61:40:14             15:38:10  \n",
       "1   9:31:51              2:18:24  \n",
       "2   8:39:20              0:28:34  \n",
       "3   7:45:15              0:01:52  \n",
       "4   6:32:36              0:11:34  "
      ]
     },
     "execution_count": 85,
     "metadata": {},
     "output_type": "execute_result"
    }
   ],
   "source": [
    "usage_hist = tables[4].copy()\n",
    "usage_hist.columns = usage_hist.columns.droplevel(0)\n",
    "usage_hist = usage_hist.drop(['Unnamed: 3_level_1','Unnamed: 6_level_1'],axis=1)\n",
    "usage_hist.columns = ['PERIOD', 'BATTERY ACTIVE', 'BATTERY CONNECTED STANDBY','AC ACTIVE', 'AC CONNECTED STANDBY']\n",
    "usage_hist.head(5)"
   ]
  },
  {
   "cell_type": "code",
   "execution_count": 86,
   "metadata": {},
   "outputs": [
    {
     "data": {
      "text/plain": [
       "{'Start Date': '2022-09-19',\n",
       " 'Total Battery Active Duration (hours)': 2645.14,\n",
       " 'Total Battery Standby Duration (hours)': 268.63,\n",
       " 'Total AC Active Duration (hours)': 1280.37,\n",
       " 'Total AC Standby Duration (hours)': 87.35}"
      ]
     },
     "execution_count": 86,
     "metadata": {},
     "output_type": "execute_result"
    }
   ],
   "source": [
    "def process_usage_table(usage_hist):\n",
    "    temp  = pd.DataFrame()\n",
    "\n",
    "    start_date = usage_hist['PERIOD'].to_list()[0].split()[0]\n",
    "\n",
    "    # Converting durations to timedelta for analysis\n",
    "    temp['BATTERY ACTIVE'] = pd.to_timedelta(usage_hist['BATTERY ACTIVE'], errors='coerce')\n",
    "    temp['BATTERY CONNECTED STANDBY'] = pd.to_timedelta(usage_hist['BATTERY CONNECTED STANDBY'], errors='coerce')\n",
    "    temp['AC ACTIVE'] = pd.to_timedelta(usage_hist['AC ACTIVE'], errors='coerce')\n",
    "    temp['AC CONNECTED STANDBY'] = pd.to_timedelta(usage_hist['AC CONNECTED STANDBY'], errors='coerce')\n",
    "\n",
    "    # Total durations\n",
    "    total_battery_active = temp['BATTERY ACTIVE'].sum()\n",
    "    total_battery_standby = temp['BATTERY CONNECTED STANDBY'].sum()\n",
    "    total_ac_active = temp['AC ACTIVE'].sum()\n",
    "    total_ac_standby = temp['AC CONNECTED STANDBY'].sum()\n",
    "\n",
    "    # Summary\n",
    "    summary = {\n",
    "        \"Start Date\": f\"{start_date}\",\n",
    "        f\"Total Battery Active Duration (hours)\":  round(total_battery_active.total_seconds() / 3600,2),\n",
    "        f\"Total Battery Standby Duration (hours)\":  round(total_battery_standby.total_seconds() / 3600,2),\n",
    "        f\"Total AC Active Duration (hours)\":  round(total_ac_active.total_seconds() / 3600,2),\n",
    "        f\"Total AC Standby Duration (hours)\":  round(total_ac_standby.total_seconds() / 3600,2),\n",
    "    }\n",
    "    return summary\n",
    "process_usage_table(usage_hist)"
   ]
  },
  {
   "cell_type": "code",
   "execution_count": 107,
   "metadata": {},
   "outputs": [
    {
     "data": {
      "text/html": [
       "<div>\n",
       "<style scoped>\n",
       "    .dataframe tbody tr th:only-of-type {\n",
       "        vertical-align: middle;\n",
       "    }\n",
       "\n",
       "    .dataframe tbody tr th {\n",
       "        vertical-align: top;\n",
       "    }\n",
       "\n",
       "    .dataframe thead th {\n",
       "        text-align: right;\n",
       "    }\n",
       "</style>\n",
       "<table border=\"1\" class=\"dataframe\">\n",
       "  <thead>\n",
       "    <tr style=\"text-align: right;\">\n",
       "      <th></th>\n",
       "      <th>PERIOD</th>\n",
       "      <th>BATTERY ACTIVE</th>\n",
       "      <th>BATTERY CONNECTED STANDBY</th>\n",
       "      <th>AC ACTIVE</th>\n",
       "      <th>AC CONNECTED STANDBY</th>\n",
       "      <th>START DATE</th>\n",
       "    </tr>\n",
       "  </thead>\n",
       "  <tbody>\n",
       "    <tr>\n",
       "      <th>0</th>\n",
       "      <td>2022-09-19  - 2022-10-10</td>\n",
       "      <td>4 days 11:04:58</td>\n",
       "      <td>1 days 08:00:09</td>\n",
       "      <td>2 days 13:40:14</td>\n",
       "      <td>0 days 15:38:10</td>\n",
       "      <td>2022-09-19</td>\n",
       "    </tr>\n",
       "    <tr>\n",
       "      <th>1</th>\n",
       "      <td>2022-10-10  - 2022-10-17</td>\n",
       "      <td>1 days 00:55:26</td>\n",
       "      <td>0 days 10:50:32</td>\n",
       "      <td>0 days 09:31:51</td>\n",
       "      <td>0 days 02:18:24</td>\n",
       "      <td>2022-10-10</td>\n",
       "    </tr>\n",
       "    <tr>\n",
       "      <th>2</th>\n",
       "      <td>2022-10-17  - 2022-10-24</td>\n",
       "      <td>1 days 01:50:31</td>\n",
       "      <td>0 days 01:29:21</td>\n",
       "      <td>0 days 08:39:20</td>\n",
       "      <td>0 days 00:28:34</td>\n",
       "      <td>2022-10-17</td>\n",
       "    </tr>\n",
       "    <tr>\n",
       "      <th>3</th>\n",
       "      <td>2022-10-24  - 2022-11-07</td>\n",
       "      <td>1 days 05:17:20</td>\n",
       "      <td>0 days 01:02:46</td>\n",
       "      <td>0 days 07:45:15</td>\n",
       "      <td>0 days 00:01:52</td>\n",
       "      <td>2022-10-24</td>\n",
       "    </tr>\n",
       "    <tr>\n",
       "      <th>4</th>\n",
       "      <td>2022-11-07  - 2022-11-14</td>\n",
       "      <td>0 days 17:42:43</td>\n",
       "      <td>0 days 01:21:22</td>\n",
       "      <td>0 days 06:32:36</td>\n",
       "      <td>0 days 00:11:34</td>\n",
       "      <td>2022-11-07</td>\n",
       "    </tr>\n",
       "  </tbody>\n",
       "</table>\n",
       "</div>"
      ],
      "text/plain": [
       "                     PERIOD  BATTERY ACTIVE BATTERY CONNECTED STANDBY  \\\n",
       "0  2022-09-19  - 2022-10-10 4 days 11:04:58           1 days 08:00:09   \n",
       "1  2022-10-10  - 2022-10-17 1 days 00:55:26           0 days 10:50:32   \n",
       "2  2022-10-17  - 2022-10-24 1 days 01:50:31           0 days 01:29:21   \n",
       "3  2022-10-24  - 2022-11-07 1 days 05:17:20           0 days 01:02:46   \n",
       "4  2022-11-07  - 2022-11-14 0 days 17:42:43           0 days 01:21:22   \n",
       "\n",
       "        AC ACTIVE AC CONNECTED STANDBY START DATE  \n",
       "0 2 days 13:40:14      0 days 15:38:10 2022-09-19  \n",
       "1 0 days 09:31:51      0 days 02:18:24 2022-10-10  \n",
       "2 0 days 08:39:20      0 days 00:28:34 2022-10-17  \n",
       "3 0 days 07:45:15      0 days 00:01:52 2022-10-24  \n",
       "4 0 days 06:32:36      0 days 00:11:34 2022-11-07  "
      ]
     },
     "execution_count": 107,
     "metadata": {},
     "output_type": "execute_result"
    }
   ],
   "source": [
    "temp = usage_hist\n",
    "temp['BATTERY ACTIVE'] = pd.to_timedelta(usage_hist['BATTERY ACTIVE'], errors='coerce')\n",
    "temp['BATTERY CONNECTED STANDBY'] = pd.to_timedelta(usage_hist['BATTERY CONNECTED STANDBY'], errors='coerce')\n",
    "temp['AC ACTIVE'] = pd.to_timedelta(usage_hist['AC ACTIVE'], errors='coerce')\n",
    "temp['AC CONNECTED STANDBY'] = pd.to_timedelta(usage_hist['AC CONNECTED STANDBY'], errors='coerce')\n",
    "temp['START DATE'] = pd.to_datetime(temp['PERIOD'].str.split().str[0], format='%Y-%m-%d', errors='coerce')\n",
    "\n",
    "\n",
    "temp.head()"
   ]
  },
  {
   "cell_type": "code",
   "execution_count": 111,
   "metadata": {},
   "outputs": [
    {
     "data": {
      "text/plain": [
       "<Axes: xlabel='START DATE', ylabel='BATTERY ACTIVE'>"
      ]
     },
     "execution_count": 111,
     "metadata": {},
     "output_type": "execute_result"
    },
    {
     "data": {
      "image/png": "[encoded data removed]",
      "text/plain": [
       "<Figure size 640x480 with 1 Axes>"
      ]
     },
     "metadata": {},
     "output_type": "display_data"
    }
   ],
   "source": [
    "temp['BATTERY ACTIVE'].dt.total_seconds()/3600\n",
    "\n",
    "sns.lineplot(x=temp['START DATE'],y=temp['BATTERY ACTIVE'].dt.total_seconds()/3600)"
   ]
  },
  {
   "cell_type": "code",
   "execution_count": 95,
   "metadata": {},
   "outputs": [
    {
     "data": {
      "text/plain": [
       "0      [2022, 09, 19  ,  2022, 10, 10]\n",
       "1      [2022, 10, 10  ,  2022, 10, 17]\n",
       "2      [2022, 10, 17  ,  2022, 10, 24]\n",
       "3      [2022, 10, 24  ,  2022, 11, 07]\n",
       "4      [2022, 11, 07  ,  2022, 11, 14]\n",
       "                    ...               \n",
       "115                     [2024, 11, 05]\n",
       "116                     [2024, 11, 06]\n",
       "117                     [2024, 11, 07]\n",
       "118                     [2024, 11, 08]\n",
       "119                     [2024, 11, 09]\n",
       "Name: PERIOD, Length: 120, dtype: object"
      ]
     },
     "execution_count": 95,
     "metadata": {},
     "output_type": "execute_result"
    }
   ],
   "source": [
    "temp['PERIOD'].str.split('-')"
   ]
  },
  {
   "cell_type": "code",
   "execution_count": 106,
   "metadata": {},
   "outputs": [
    {
     "data": {
      "text/plain": [
       "'19/09 to 10/10'"
      ]
     },
     "execution_count": 106,
     "metadata": {},
     "output_type": "execute_result"
    }
   ],
   "source": [
    "date_label = '2022-09-19 - 2022-10-10'.split('-')\n",
    "\n",
    "final_lable = f\"{date_label[2].strip()}/{date_label[1]} to {date_label[5]}/{date_label[4]}\"\n",
    "final_lable"
   ]
  },
  {
   "cell_type": "code",
   "execution_count": 103,
   "metadata": {},
   "outputs": [
    {
     "data": {
      "text/plain": [
       "['2022', '09', '19 ', ' 2022', '10', '10']"
      ]
     },
     "execution_count": 103,
     "metadata": {},
     "output_type": "execute_result"
    }
   ],
   "source": [
    "'2022-09-19 - 2022-10-10'.split('-')"
   ]
  }
 ],
 "metadata": {
  "kernelspec": {
   "display_name": "battery-report-analysis-6fU-tPu0-py3.11",
   "language": "python",
   "name": "python3"
  },
  "language_info": {
   "codemirror_mode": {
    "name": "ipython",
    "version": 3
   },
   "file_extension": ".py",
   "mimetype": "text/x-python",
   "name": "python",
   "nbconvert_exporter": "python",
   "pygments_lexer": "ipython3",
   "version": "3.11.5"
  }
 },
 "nbformat": 4,
 "nbformat_minor": 2
}
